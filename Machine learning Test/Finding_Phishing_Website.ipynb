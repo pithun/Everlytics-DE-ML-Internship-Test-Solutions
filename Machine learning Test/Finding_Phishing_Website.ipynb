{
 "cells": [
  {
   "cell_type": "code",
   "execution_count": 1,
   "metadata": {},
   "outputs": [],
   "source": [
    "import pandas as pd\n",
    "import matplotlib.pyplot as plt\n",
    "import seaborn as sns\n",
    "import numpy as np\n",
    "\n",
    "# Modelling \n",
    "from sklearn.ensemble import RandomForestClassifier\n",
    "from xgboost import XGBClassifier\n",
    "from catboost import CatBoostClassifier\n",
    "from sklearn.model_selection import GridSearchCV\n",
    "from sklearn.model_selection import train_test_split \n",
    "from sklearn.model_selection import cross_val_score\n",
    "\n",
    "# Metrics\n",
    "from sklearn.metrics import accuracy_score"
   ]
  },
  {
   "cell_type": "code",
   "execution_count": 2,
   "metadata": {},
   "outputs": [],
   "source": [
    "data = pd.read_csv('Phishing Data - Phishing Data.csv')"
   ]
  },
  {
   "cell_type": "code",
   "execution_count": 3,
   "metadata": {},
   "outputs": [
    {
     "name": "stdout",
     "output_type": "stream",
     "text": [
      "<class 'pandas.core.frame.DataFrame'>\n",
      "RangeIndex: 2456 entries, 0 to 2455\n",
      "Data columns (total 31 columns):\n",
      " #   Column                       Non-Null Count  Dtype\n",
      "---  ------                       --------------  -----\n",
      " 0   having_IP_Address            2456 non-null   int64\n",
      " 1   URL_Length                   2456 non-null   int64\n",
      " 2   Shortining_Service           2456 non-null   int64\n",
      " 3   having_At_Symbol             2456 non-null   int64\n",
      " 4   double_slash_redirecting     2456 non-null   int64\n",
      " 5   Prefix_Suffix                2456 non-null   int64\n",
      " 6   having_Sub_Domain            2456 non-null   int64\n",
      " 7   SSLfinal_State               2456 non-null   int64\n",
      " 8   Domain_registeration_length  2456 non-null   int64\n",
      " 9   Favicon                      2456 non-null   int64\n",
      " 10  port                         2456 non-null   int64\n",
      " 11  HTTPS_token                  2456 non-null   int64\n",
      " 12  Request_URL                  2456 non-null   int64\n",
      " 13  URL_of_Anchor                2456 non-null   int64\n",
      " 14  Links_in_tags                2456 non-null   int64\n",
      " 15  SFH                          2456 non-null   int64\n",
      " 16  Submitting_to_email          2456 non-null   int64\n",
      " 17  Abnormal_URL                 2456 non-null   int64\n",
      " 18  Redirect                     2456 non-null   int64\n",
      " 19  on_mouseover                 2456 non-null   int64\n",
      " 20  RightClick                   2456 non-null   int64\n",
      " 21  popUpWidnow                  2456 non-null   int64\n",
      " 22  Iframe                       2456 non-null   int64\n",
      " 23  age_of_domain                2456 non-null   int64\n",
      " 24  DNSRecord                    2456 non-null   int64\n",
      " 25  web_traffic                  2456 non-null   int64\n",
      " 26  Page_Rank                    2456 non-null   int64\n",
      " 27  Google_Index                 2456 non-null   int64\n",
      " 28  Links_pointing_to_page       2456 non-null   int64\n",
      " 29  Statistical_report           2456 non-null   int64\n",
      " 30  Result                       2456 non-null   int64\n",
      "dtypes: int64(31)\n",
      "memory usage: 594.9 KB\n"
     ]
    }
   ],
   "source": [
    "data.info()"
   ]
  },
  {
   "cell_type": "code",
   "execution_count": 4,
   "metadata": {},
   "outputs": [
    {
     "data": {
      "text/plain": [
       "(2456, 31)"
      ]
     },
     "execution_count": 4,
     "metadata": {},
     "output_type": "execute_result"
    }
   ],
   "source": [
    "data.shape\n",
    "\n",
    "# we have 2456 entries"
   ]
  },
  {
   "cell_type": "markdown",
   "metadata": {},
   "source": [
    "## Data Cleaning"
   ]
  },
  {
   "cell_type": "code",
   "execution_count": 5,
   "metadata": {},
   "outputs": [
    {
     "data": {
      "text/plain": [
       "<matplotlib.axes._subplots.AxesSubplot at 0x241740c3070>"
      ]
     },
     "execution_count": 5,
     "metadata": {},
     "output_type": "execute_result"
    },
    {
     "data": {
      "image/png": "[encoded data removed]",
      "text/plain": [
       "<Figure size 432x288 with 1 Axes>"
      ]
     },
     "metadata": {
      "needs_background": "light"
     },
     "output_type": "display_data"
    }
   ],
   "source": [
    "# missing values\n",
    "data.isna().sum().plot(kind= 'bar')"
   ]
  },
  {
   "cell_type": "code",
   "execution_count": 6,
   "metadata": {},
   "outputs": [],
   "source": [
    "# no missing values"
   ]
  },
  {
   "cell_type": "markdown",
   "metadata": {},
   "source": [
    "### Duplicates Check"
   ]
  },
  {
   "cell_type": "code",
   "execution_count": 7,
   "metadata": {},
   "outputs": [],
   "source": [
    "dup = data.duplicated()"
   ]
  },
  {
   "cell_type": "code",
   "execution_count": 8,
   "metadata": {},
   "outputs": [
    {
     "data": {
      "text/html": [
       "<div>\n",
       "<style scoped>\n",
       "    .dataframe tbody tr th:only-of-type {\n",
       "        vertical-align: middle;\n",
       "    }\n",
       "\n",
       "    .dataframe tbody tr th {\n",
       "        vertical-align: top;\n",
       "    }\n",
       "\n",
       "    .dataframe thead th {\n",
       "        text-align: right;\n",
       "    }\n",
       "</style>\n",
       "<table border=\"1\" class=\"dataframe\">\n",
       "  <thead>\n",
       "    <tr style=\"text-align: right;\">\n",
       "      <th></th>\n",
       "      <th>having_IP_Address</th>\n",
       "      <th>URL_Length</th>\n",
       "      <th>Shortining_Service</th>\n",
       "      <th>having_At_Symbol</th>\n",
       "      <th>double_slash_redirecting</th>\n",
       "      <th>Prefix_Suffix</th>\n",
       "      <th>having_Sub_Domain</th>\n",
       "      <th>SSLfinal_State</th>\n",
       "      <th>Domain_registeration_length</th>\n",
       "      <th>Favicon</th>\n",
       "      <th>...</th>\n",
       "      <th>popUpWidnow</th>\n",
       "      <th>Iframe</th>\n",
       "      <th>age_of_domain</th>\n",
       "      <th>DNSRecord</th>\n",
       "      <th>web_traffic</th>\n",
       "      <th>Page_Rank</th>\n",
       "      <th>Google_Index</th>\n",
       "      <th>Links_pointing_to_page</th>\n",
       "      <th>Statistical_report</th>\n",
       "      <th>Result</th>\n",
       "    </tr>\n",
       "  </thead>\n",
       "  <tbody>\n",
       "    <tr>\n",
       "      <th>155</th>\n",
       "      <td>0</td>\n",
       "      <td>-1</td>\n",
       "      <td>0</td>\n",
       "      <td>0</td>\n",
       "      <td>0</td>\n",
       "      <td>0</td>\n",
       "      <td>-1</td>\n",
       "      <td>1</td>\n",
       "      <td>0</td>\n",
       "      <td>0</td>\n",
       "      <td>...</td>\n",
       "      <td>0</td>\n",
       "      <td>0</td>\n",
       "      <td>1</td>\n",
       "      <td>0</td>\n",
       "      <td>1</td>\n",
       "      <td>1</td>\n",
       "      <td>0</td>\n",
       "      <td>0</td>\n",
       "      <td>0</td>\n",
       "      <td>0</td>\n",
       "    </tr>\n",
       "    <tr>\n",
       "      <th>539</th>\n",
       "      <td>0</td>\n",
       "      <td>1</td>\n",
       "      <td>0</td>\n",
       "      <td>0</td>\n",
       "      <td>0</td>\n",
       "      <td>-1</td>\n",
       "      <td>-1</td>\n",
       "      <td>-1</td>\n",
       "      <td>1</td>\n",
       "      <td>0</td>\n",
       "      <td>...</td>\n",
       "      <td>0</td>\n",
       "      <td>0</td>\n",
       "      <td>-1</td>\n",
       "      <td>1</td>\n",
       "      <td>0</td>\n",
       "      <td>-1</td>\n",
       "      <td>0</td>\n",
       "      <td>1</td>\n",
       "      <td>0</td>\n",
       "      <td>1</td>\n",
       "    </tr>\n",
       "    <tr>\n",
       "      <th>807</th>\n",
       "      <td>0</td>\n",
       "      <td>-1</td>\n",
       "      <td>0</td>\n",
       "      <td>0</td>\n",
       "      <td>0</td>\n",
       "      <td>-1</td>\n",
       "      <td>-1</td>\n",
       "      <td>-1</td>\n",
       "      <td>1</td>\n",
       "      <td>0</td>\n",
       "      <td>...</td>\n",
       "      <td>0</td>\n",
       "      <td>0</td>\n",
       "      <td>-1</td>\n",
       "      <td>1</td>\n",
       "      <td>0</td>\n",
       "      <td>-1</td>\n",
       "      <td>0</td>\n",
       "      <td>0</td>\n",
       "      <td>0</td>\n",
       "      <td>1</td>\n",
       "    </tr>\n",
       "    <tr>\n",
       "      <th>902</th>\n",
       "      <td>0</td>\n",
       "      <td>-1</td>\n",
       "      <td>0</td>\n",
       "      <td>0</td>\n",
       "      <td>0</td>\n",
       "      <td>-1</td>\n",
       "      <td>-1</td>\n",
       "      <td>1</td>\n",
       "      <td>1</td>\n",
       "      <td>0</td>\n",
       "      <td>...</td>\n",
       "      <td>0</td>\n",
       "      <td>0</td>\n",
       "      <td>-1</td>\n",
       "      <td>0</td>\n",
       "      <td>1</td>\n",
       "      <td>-1</td>\n",
       "      <td>0</td>\n",
       "      <td>0</td>\n",
       "      <td>0</td>\n",
       "      <td>1</td>\n",
       "    </tr>\n",
       "    <tr>\n",
       "      <th>907</th>\n",
       "      <td>0</td>\n",
       "      <td>-1</td>\n",
       "      <td>0</td>\n",
       "      <td>0</td>\n",
       "      <td>0</td>\n",
       "      <td>-1</td>\n",
       "      <td>-1</td>\n",
       "      <td>-1</td>\n",
       "      <td>0</td>\n",
       "      <td>0</td>\n",
       "      <td>...</td>\n",
       "      <td>0</td>\n",
       "      <td>0</td>\n",
       "      <td>-1</td>\n",
       "      <td>1</td>\n",
       "      <td>1</td>\n",
       "      <td>-1</td>\n",
       "      <td>0</td>\n",
       "      <td>0</td>\n",
       "      <td>0</td>\n",
       "      <td>1</td>\n",
       "    </tr>\n",
       "    <tr>\n",
       "      <th>...</th>\n",
       "      <td>...</td>\n",
       "      <td>...</td>\n",
       "      <td>...</td>\n",
       "      <td>...</td>\n",
       "      <td>...</td>\n",
       "      <td>...</td>\n",
       "      <td>...</td>\n",
       "      <td>...</td>\n",
       "      <td>...</td>\n",
       "      <td>...</td>\n",
       "      <td>...</td>\n",
       "      <td>...</td>\n",
       "      <td>...</td>\n",
       "      <td>...</td>\n",
       "      <td>...</td>\n",
       "      <td>...</td>\n",
       "      <td>...</td>\n",
       "      <td>...</td>\n",
       "      <td>...</td>\n",
       "      <td>...</td>\n",
       "      <td>...</td>\n",
       "    </tr>\n",
       "    <tr>\n",
       "      <th>2451</th>\n",
       "      <td>0</td>\n",
       "      <td>-1</td>\n",
       "      <td>0</td>\n",
       "      <td>0</td>\n",
       "      <td>0</td>\n",
       "      <td>0</td>\n",
       "      <td>0</td>\n",
       "      <td>-1</td>\n",
       "      <td>1</td>\n",
       "      <td>0</td>\n",
       "      <td>...</td>\n",
       "      <td>0</td>\n",
       "      <td>0</td>\n",
       "      <td>-1</td>\n",
       "      <td>0</td>\n",
       "      <td>1</td>\n",
       "      <td>0</td>\n",
       "      <td>0</td>\n",
       "      <td>0</td>\n",
       "      <td>0</td>\n",
       "      <td>1</td>\n",
       "    </tr>\n",
       "    <tr>\n",
       "      <th>2452</th>\n",
       "      <td>0</td>\n",
       "      <td>-1</td>\n",
       "      <td>0</td>\n",
       "      <td>1</td>\n",
       "      <td>0</td>\n",
       "      <td>0</td>\n",
       "      <td>0</td>\n",
       "      <td>0</td>\n",
       "      <td>1</td>\n",
       "      <td>0</td>\n",
       "      <td>...</td>\n",
       "      <td>0</td>\n",
       "      <td>0</td>\n",
       "      <td>0</td>\n",
       "      <td>1</td>\n",
       "      <td>-1</td>\n",
       "      <td>0</td>\n",
       "      <td>0</td>\n",
       "      <td>1</td>\n",
       "      <td>0</td>\n",
       "      <td>1</td>\n",
       "    </tr>\n",
       "    <tr>\n",
       "      <th>2453</th>\n",
       "      <td>0</td>\n",
       "      <td>-1</td>\n",
       "      <td>0</td>\n",
       "      <td>0</td>\n",
       "      <td>0</td>\n",
       "      <td>0</td>\n",
       "      <td>0</td>\n",
       "      <td>1</td>\n",
       "      <td>0</td>\n",
       "      <td>0</td>\n",
       "      <td>...</td>\n",
       "      <td>0</td>\n",
       "      <td>0</td>\n",
       "      <td>-1</td>\n",
       "      <td>0</td>\n",
       "      <td>1</td>\n",
       "      <td>0</td>\n",
       "      <td>0</td>\n",
       "      <td>0</td>\n",
       "      <td>0</td>\n",
       "      <td>0</td>\n",
       "    </tr>\n",
       "    <tr>\n",
       "      <th>2454</th>\n",
       "      <td>0</td>\n",
       "      <td>-1</td>\n",
       "      <td>0</td>\n",
       "      <td>0</td>\n",
       "      <td>0</td>\n",
       "      <td>0</td>\n",
       "      <td>-1</td>\n",
       "      <td>-1</td>\n",
       "      <td>1</td>\n",
       "      <td>0</td>\n",
       "      <td>...</td>\n",
       "      <td>0</td>\n",
       "      <td>0</td>\n",
       "      <td>1</td>\n",
       "      <td>0</td>\n",
       "      <td>-1</td>\n",
       "      <td>-1</td>\n",
       "      <td>0</td>\n",
       "      <td>0</td>\n",
       "      <td>0</td>\n",
       "      <td>1</td>\n",
       "    </tr>\n",
       "    <tr>\n",
       "      <th>2455</th>\n",
       "      <td>0</td>\n",
       "      <td>-1</td>\n",
       "      <td>0</td>\n",
       "      <td>0</td>\n",
       "      <td>0</td>\n",
       "      <td>0</td>\n",
       "      <td>0</td>\n",
       "      <td>1</td>\n",
       "      <td>0</td>\n",
       "      <td>0</td>\n",
       "      <td>...</td>\n",
       "      <td>0</td>\n",
       "      <td>0</td>\n",
       "      <td>-1</td>\n",
       "      <td>0</td>\n",
       "      <td>1</td>\n",
       "      <td>1</td>\n",
       "      <td>0</td>\n",
       "      <td>0</td>\n",
       "      <td>0</td>\n",
       "      <td>0</td>\n",
       "    </tr>\n",
       "  </tbody>\n",
       "</table>\n",
       "<p>740 rows × 31 columns</p>\n",
       "</div>"
      ],
      "text/plain": [
       "      having_IP_Address  URL_Length  Shortining_Service  having_At_Symbol  \\\n",
       "155                   0          -1                   0                 0   \n",
       "539                   0           1                   0                 0   \n",
       "807                   0          -1                   0                 0   \n",
       "902                   0          -1                   0                 0   \n",
       "907                   0          -1                   0                 0   \n",
       "...                 ...         ...                 ...               ...   \n",
       "2451                  0          -1                   0                 0   \n",
       "2452                  0          -1                   0                 1   \n",
       "2453                  0          -1                   0                 0   \n",
       "2454                  0          -1                   0                 0   \n",
       "2455                  0          -1                   0                 0   \n",
       "\n",
       "      double_slash_redirecting  Prefix_Suffix  having_Sub_Domain  \\\n",
       "155                          0              0                 -1   \n",
       "539                          0             -1                 -1   \n",
       "807                          0             -1                 -1   \n",
       "902                          0             -1                 -1   \n",
       "907                          0             -1                 -1   \n",
       "...                        ...            ...                ...   \n",
       "2451                         0              0                  0   \n",
       "2452                         0              0                  0   \n",
       "2453                         0              0                  0   \n",
       "2454                         0              0                 -1   \n",
       "2455                         0              0                  0   \n",
       "\n",
       "      SSLfinal_State  Domain_registeration_length  Favicon  ...  popUpWidnow  \\\n",
       "155                1                            0        0  ...            0   \n",
       "539               -1                            1        0  ...            0   \n",
       "807               -1                            1        0  ...            0   \n",
       "902                1                            1        0  ...            0   \n",
       "907               -1                            0        0  ...            0   \n",
       "...              ...                          ...      ...  ...          ...   \n",
       "2451              -1                            1        0  ...            0   \n",
       "2452               0                            1        0  ...            0   \n",
       "2453               1                            0        0  ...            0   \n",
       "2454              -1                            1        0  ...            0   \n",
       "2455               1                            0        0  ...            0   \n",
       "\n",
       "      Iframe  age_of_domain  DNSRecord  web_traffic  Page_Rank  Google_Index  \\\n",
       "155        0              1          0            1          1             0   \n",
       "539        0             -1          1            0         -1             0   \n",
       "807        0             -1          1            0         -1             0   \n",
       "902        0             -1          0            1         -1             0   \n",
       "907        0             -1          1            1         -1             0   \n",
       "...      ...            ...        ...          ...        ...           ...   \n",
       "2451       0             -1          0            1          0             0   \n",
       "2452       0              0          1           -1          0             0   \n",
       "2453       0             -1          0            1          0             0   \n",
       "2454       0              1          0           -1         -1             0   \n",
       "2455       0             -1          0            1          1             0   \n",
       "\n",
       "      Links_pointing_to_page  Statistical_report  Result  \n",
       "155                        0                   0       0  \n",
       "539                        1                   0       1  \n",
       "807                        0                   0       1  \n",
       "902                        0                   0       1  \n",
       "907                        0                   0       1  \n",
       "...                      ...                 ...     ...  \n",
       "2451                       0                   0       1  \n",
       "2452                       1                   0       1  \n",
       "2453                       0                   0       0  \n",
       "2454                       0                   0       1  \n",
       "2455                       0                   0       0  \n",
       "\n",
       "[740 rows x 31 columns]"
      ]
     },
     "execution_count": 8,
     "metadata": {},
     "output_type": "execute_result"
    }
   ],
   "source": [
    "data[dup]"
   ]
  },
  {
   "cell_type": "markdown",
   "metadata": {},
   "source": [
    "### There are quite a number of duplicates and this is from the fact that different sites have similar of these features so the contents of these sites might not be the same but as per these features they are the same and gave the same result Training with duplicates could affect the model such that we would have multiple of the same features basically not learning anything new.\n"
   ]
  },
  {
   "cell_type": "code",
   "execution_count": 9,
   "metadata": {},
   "outputs": [],
   "source": [
    "data = data.drop_duplicates()"
   ]
  },
  {
   "cell_type": "code",
   "execution_count": 10,
   "metadata": {},
   "outputs": [
    {
     "data": {
      "text/plain": [
       "(1716, 31)"
      ]
     },
     "execution_count": 10,
     "metadata": {},
     "output_type": "execute_result"
    }
   ],
   "source": [
    "data.shape"
   ]
  },
  {
   "cell_type": "code",
   "execution_count": 11,
   "metadata": {},
   "outputs": [
    {
     "data": {
      "text/plain": [
       "0    0.524476\n",
       "1    0.475524\n",
       "Name: Result, dtype: float64"
      ]
     },
     "execution_count": 11,
     "metadata": {},
     "output_type": "execute_result"
    }
   ],
   "source": [
    "data.Result.value_counts(normalize= True)"
   ]
  },
  {
   "cell_type": "markdown",
   "metadata": {},
   "source": [
    "### Consistency check"
   ]
  },
  {
   "cell_type": "code",
   "execution_count": 12,
   "metadata": {},
   "outputs": [
    {
     "name": "stdout",
     "output_type": "stream",
     "text": [
      "having_IP_Address has [1 0] as unique values\n",
      "URL_Length has [ 1  0 -1] as unique values\n",
      "Shortining_Service has [0 1] as unique values\n",
      "having_At_Symbol has [0 1] as unique values\n",
      "double_slash_redirecting has [1 0] as unique values\n",
      "Prefix_Suffix has [-1  0  1] as unique values\n",
      "having_Sub_Domain has [-1  0  1] as unique values\n",
      "SSLfinal_State has [-1  1  0] as unique values\n",
      "Domain_registeration_length has [ 0  1 -1] as unique values\n",
      "Favicon has [0 1] as unique values\n",
      "port has [0 1] as unique values\n",
      "HTTPS_token has [1 0] as unique values\n",
      "Request_URL has [ 1 -1] as unique values\n",
      "URL_of_Anchor has [-1  0  1] as unique values\n",
      "Links_in_tags has [ 1 -1  0] as unique values\n",
      "SFH has [-1  1] as unique values\n",
      "Submitting_to_email has [1 0] as unique values\n",
      "Abnormal_URL has [1 0] as unique values\n",
      "Redirect has [0 1] as unique values\n",
      "on_mouseover has [0 1] as unique values\n",
      "RightClick has [0 1] as unique values\n",
      "popUpWidnow has [0 1] as unique values\n",
      "Iframe has [0 1] as unique values\n",
      "age_of_domain has [-1  0  1] as unique values\n",
      "DNSRecord has [1 0] as unique values\n",
      "web_traffic has [-1  0  1] as unique values\n",
      "Page_Rank has [-1  0  1] as unique values\n",
      "Google_Index has [0 1] as unique values\n",
      "Links_pointing_to_page has [ 1  0 -1] as unique values\n",
      "Statistical_report has [1 0] as unique values\n",
      "Result has [1 0] as unique values\n"
     ]
    }
   ],
   "source": [
    "for a in data.columns:\n",
    "    print(a + ' has {} as unique values'.format(data[a].unique()))\n",
    "# all feature values are c``onsistent."
   ]
  },
  {
   "cell_type": "markdown",
   "metadata": {},
   "source": [
    "## EDA"
   ]
  },
  {
   "cell_type": "code",
   "execution_count": 13,
   "metadata": {},
   "outputs": [
    {
     "data": {
      "text/plain": [
       "Index(['having_IP_Address', 'URL_Length', 'Shortining_Service',\n",
       "       'having_At_Symbol', 'double_slash_redirecting', 'Prefix_Suffix',\n",
       "       'having_Sub_Domain', 'SSLfinal_State', 'Domain_registeration_length',\n",
       "       'Favicon', 'port', 'HTTPS_token', 'Request_URL', 'URL_of_Anchor',\n",
       "       'Links_in_tags', 'SFH', 'Submitting_to_email', 'Abnormal_URL',\n",
       "       'Redirect', 'on_mouseover', 'RightClick', 'popUpWidnow', 'Iframe',\n",
       "       'age_of_domain', 'DNSRecord', 'web_traffic', 'Page_Rank',\n",
       "       'Google_Index', 'Links_pointing_to_page', 'Statistical_report',\n",
       "       'Result'],\n",
       "      dtype='object')"
      ]
     },
     "execution_count": 13,
     "metadata": {},
     "output_type": "execute_result"
    }
   ],
   "source": [
    "data.columns"
   ]
  },
  {
   "cell_type": "code",
   "execution_count": 14,
   "metadata": {},
   "outputs": [
    {
     "data": {
      "text/plain": [
       "<matplotlib.axes._subplots.AxesSubplot at 0x2417423a2e0>"
      ]
     },
     "execution_count": 14,
     "metadata": {},
     "output_type": "execute_result"
    },
    {
     "data": {
      "image/png": "[encoded data removed]",
      "text/plain": [
       "<Figure size 432x288 with 1 Axes>"
      ]
     },
     "metadata": {
      "needs_background": "light"
     },
     "output_type": "display_data"
    }
   ],
   "source": [
    "# let's see distribution of results in the data set\n",
    "data.Result.value_counts(normalize= True).plot(kind = 'bar')\n",
    "\n",
    "# It's closely distributed"
   ]
  },
  {
   "cell_type": "code",
   "execution_count": 15,
   "metadata": {},
   "outputs": [
    {
     "name": "stdout",
     "output_type": "stream",
     "text": [
      "for phising website cases in having_IP_Address, we have\n"
     ]
    },
    {
     "data": {
      "text/plain": [
       "[   Result  having_IP_Address     value\n",
       " 2       1                  0  0.921569\n",
       " 3       1                  1  0.078431]"
      ]
     },
     "metadata": {},
     "output_type": "display_data"
    },
    {
     "name": "stdout",
     "output_type": "stream",
     "text": [
      "for phising website cases in URL_Length, we have\n"
     ]
    },
    {
     "data": {
      "text/plain": [
       "[   Result  URL_Length     value\n",
       " 3       1          -1  0.843137\n",
       " 4       1           1  0.142157\n",
       " 5       1           0  0.014706]"
      ]
     },
     "metadata": {},
     "output_type": "display_data"
    },
    {
     "name": "stdout",
     "output_type": "stream",
     "text": [
      "for phising website cases in Shortining_Service, we have\n"
     ]
    },
    {
     "data": {
      "text/plain": [
       "[   Result  Shortining_Service     value\n",
       " 2       1                   0  0.911765\n",
       " 3       1                   1  0.088235]"
      ]
     },
     "metadata": {},
     "output_type": "display_data"
    },
    {
     "name": "stdout",
     "output_type": "stream",
     "text": [
      "for phising website cases in having_At_Symbol, we have\n"
     ]
    },
    {
     "data": {
      "text/plain": [
       "[   Result  having_At_Symbol     value\n",
       " 2       1                 0  0.946078\n",
       " 3       1                 1  0.053922]"
      ]
     },
     "metadata": {},
     "output_type": "display_data"
    },
    {
     "name": "stdout",
     "output_type": "stream",
     "text": [
      "for phising website cases in double_slash_redirecting, we have\n"
     ]
    },
    {
     "data": {
      "text/plain": [
       "[   Result  double_slash_redirecting     value\n",
       " 2       1                         0  0.904412\n",
       " 3       1                         1  0.095588]"
      ]
     },
     "metadata": {},
     "output_type": "display_data"
    },
    {
     "name": "stdout",
     "output_type": "stream",
     "text": [
      "for phising website cases in Prefix_Suffix, we have\n"
     ]
    },
    {
     "data": {
      "text/plain": [
       "[   Result  Prefix_Suffix     value\n",
       " 3       1             -1  0.666667\n",
       " 4       1              0  0.333333]"
      ]
     },
     "metadata": {},
     "output_type": "display_data"
    },
    {
     "name": "stdout",
     "output_type": "stream",
     "text": [
      "for phising website cases in having_Sub_Domain, we have\n"
     ]
    },
    {
     "data": {
      "text/plain": [
       "[   Result  having_Sub_Domain     value\n",
       " 3       1                 -1  0.522059\n",
       " 4       1                  0  0.383578\n",
       " 5       1                  1  0.094363]"
      ]
     },
     "metadata": {},
     "output_type": "display_data"
    },
    {
     "name": "stdout",
     "output_type": "stream",
     "text": [
      "for phising website cases in SSLfinal_State, we have\n"
     ]
    },
    {
     "data": {
      "text/plain": [
       "[   Result  SSLfinal_State     value\n",
       " 3       1              -1  0.627451\n",
       " 4       1               0  0.223039\n",
       " 5       1               1  0.149510]"
      ]
     },
     "metadata": {},
     "output_type": "display_data"
    },
    {
     "name": "stdout",
     "output_type": "stream",
     "text": [
      "for phising website cases in Domain_registeration_length, we have\n"
     ]
    },
    {
     "data": {
      "text/plain": [
       "[   Result  Domain_registeration_length     value\n",
       " 3       1                            1  0.420343\n",
       " 4       1                            0  0.399510\n",
       " 5       1                           -1  0.180147]"
      ]
     },
     "metadata": {},
     "output_type": "display_data"
    },
    {
     "name": "stdout",
     "output_type": "stream",
     "text": [
      "for phising website cases in Favicon, we have\n"
     ]
    },
    {
     "data": {
      "text/plain": [
       "[   Result  Favicon     value\n",
       " 2       1        0  0.816176\n",
       " 3       1        1  0.183824]"
      ]
     },
     "metadata": {},
     "output_type": "display_data"
    },
    {
     "name": "stdout",
     "output_type": "stream",
     "text": [
      "for phising website cases in port, we have\n"
     ]
    },
    {
     "data": {
      "text/plain": [
       "[   Result  port     value\n",
       " 2       1     0  0.852941\n",
       " 3       1     1  0.147059]"
      ]
     },
     "metadata": {},
     "output_type": "display_data"
    },
    {
     "name": "stdout",
     "output_type": "stream",
     "text": [
      "for phising website cases in HTTPS_token, we have\n"
     ]
    },
    {
     "data": {
      "text/plain": [
       "[   Result  HTTPS_token  value\n",
       " 2       1            0  0.875\n",
       " 3       1            1  0.125]"
      ]
     },
     "metadata": {},
     "output_type": "display_data"
    },
    {
     "name": "stdout",
     "output_type": "stream",
     "text": [
      "for phising website cases in Request_URL, we have\n"
     ]
    },
    {
     "data": {
      "text/plain": [
       "[   Result  Request_URL     value\n",
       " 2       1           -1  0.529412\n",
       " 3       1            1  0.470588]"
      ]
     },
     "metadata": {},
     "output_type": "display_data"
    },
    {
     "name": "stdout",
     "output_type": "stream",
     "text": [
      "for phising website cases in URL_of_Anchor, we have\n"
     ]
    },
    {
     "data": {
      "text/plain": [
       "[   Result  URL_of_Anchor     value\n",
       " 3       1             -1  0.647059\n",
       " 4       1              0  0.330882\n",
       " 5       1              1  0.022059]"
      ]
     },
     "metadata": {},
     "output_type": "display_data"
    },
    {
     "name": "stdout",
     "output_type": "stream",
     "text": [
      "for phising website cases in Links_in_tags, we have\n"
     ]
    },
    {
     "data": {
      "text/plain": [
       "[   Result  Links_in_tags     value\n",
       " 3       1             -1  0.425245\n",
       " 4       1              0  0.419118\n",
       " 5       1              1  0.155637]"
      ]
     },
     "metadata": {},
     "output_type": "display_data"
    },
    {
     "name": "stdout",
     "output_type": "stream",
     "text": [
      "for phising website cases in SFH, we have\n"
     ]
    },
    {
     "data": {
      "text/plain": [
       "[   Result  SFH     value\n",
       " 2       1   -1  0.870098\n",
       " 3       1    1  0.129902]"
      ]
     },
     "metadata": {},
     "output_type": "display_data"
    },
    {
     "name": "stdout",
     "output_type": "stream",
     "text": [
      "for phising website cases in Submitting_to_email, we have\n"
     ]
    },
    {
     "data": {
      "text/plain": [
       "[   Result  Submitting_to_email     value\n",
       " 2       1                    0  0.811275\n",
       " 3       1                    1  0.188725]"
      ]
     },
     "metadata": {},
     "output_type": "display_data"
    },
    {
     "name": "stdout",
     "output_type": "stream",
     "text": [
      "for phising website cases in Abnormal_URL, we have\n"
     ]
    },
    {
     "data": {
      "text/plain": [
       "[   Result  Abnormal_URL    value\n",
       " 2       1             0  0.89951\n",
       " 3       1             1  0.10049]"
      ]
     },
     "metadata": {},
     "output_type": "display_data"
    },
    {
     "name": "stdout",
     "output_type": "stream",
     "text": [
      "for phising website cases in Redirect, we have\n"
     ]
    },
    {
     "data": {
      "text/plain": [
       "[   Result  Redirect     value\n",
       " 2       1         0  0.922794\n",
       " 3       1         1  0.077206]"
      ]
     },
     "metadata": {},
     "output_type": "display_data"
    },
    {
     "name": "stdout",
     "output_type": "stream",
     "text": [
      "for phising website cases in on_mouseover, we have\n"
     ]
    },
    {
     "data": {
      "text/plain": [
       "[   Result  on_mouseover     value\n",
       " 2       1             0  0.873775\n",
       " 3       1             1  0.126225]"
      ]
     },
     "metadata": {},
     "output_type": "display_data"
    },
    {
     "name": "stdout",
     "output_type": "stream",
     "text": [
      "for phising website cases in RightClick, we have\n"
     ]
    },
    {
     "data": {
      "text/plain": [
       "[   Result  RightClick     value\n",
       " 2       1           0  0.957108\n",
       " 3       1           1  0.042892]"
      ]
     },
     "metadata": {},
     "output_type": "display_data"
    },
    {
     "name": "stdout",
     "output_type": "stream",
     "text": [
      "for phising website cases in popUpWidnow, we have\n"
     ]
    },
    {
     "data": {
      "text/plain": [
       "[   Result  popUpWidnow     value\n",
       " 2       1            0  0.811275\n",
       " 3       1            1  0.188725]"
      ]
     },
     "metadata": {},
     "output_type": "display_data"
    },
    {
     "name": "stdout",
     "output_type": "stream",
     "text": [
      "for phising website cases in Iframe, we have\n"
     ]
    },
    {
     "data": {
      "text/plain": [
       "[   Result  Iframe     value\n",
       " 2       1       0  0.909314\n",
       " 3       1       1  0.090686]"
      ]
     },
     "metadata": {},
     "output_type": "display_data"
    },
    {
     "name": "stdout",
     "output_type": "stream",
     "text": [
      "for phising website cases in age_of_domain, we have\n"
     ]
    },
    {
     "data": {
      "text/plain": [
       "[   Result  age_of_domain     value\n",
       " 3       1             -1  0.617647\n",
       " 4       1              1  0.291667\n",
       " 5       1              0  0.090686]"
      ]
     },
     "metadata": {},
     "output_type": "display_data"
    },
    {
     "name": "stdout",
     "output_type": "stream",
     "text": [
      "for phising website cases in DNSRecord, we have\n"
     ]
    },
    {
     "data": {
      "text/plain": [
       "[   Result  DNSRecord    value\n",
       " 2       1          1  0.61152\n",
       " 3       1          0  0.38848]"
      ]
     },
     "metadata": {},
     "output_type": "display_data"
    },
    {
     "name": "stdout",
     "output_type": "stream",
     "text": [
      "for phising website cases in web_traffic, we have\n"
     ]
    },
    {
     "data": {
      "text/plain": [
       "[   Result  web_traffic     value\n",
       " 3       1           -1  0.433824\n",
       " 4       1            0  0.337010\n",
       " 5       1            1  0.229167]"
      ]
     },
     "metadata": {},
     "output_type": "display_data"
    },
    {
     "name": "stdout",
     "output_type": "stream",
     "text": [
      "for phising website cases in Page_Rank, we have\n"
     ]
    },
    {
     "data": {
      "text/plain": [
       "[   Result  Page_Rank     value\n",
       " 3       1         -1  0.856618\n",
       " 4       1          0  0.126225\n",
       " 5       1          1  0.017157]"
      ]
     },
     "metadata": {},
     "output_type": "display_data"
    },
    {
     "name": "stdout",
     "output_type": "stream",
     "text": [
      "for phising website cases in Google_Index, we have\n"
     ]
    },
    {
     "data": {
      "text/plain": [
       "[   Result  Google_Index     value\n",
       " 2       1             0  0.764706\n",
       " 3       1             1  0.235294]"
      ]
     },
     "metadata": {},
     "output_type": "display_data"
    },
    {
     "name": "stdout",
     "output_type": "stream",
     "text": [
      "for phising website cases in Links_pointing_to_page, we have\n"
     ]
    },
    {
     "data": {
      "text/plain": [
       "[   Result  Links_pointing_to_page     value\n",
       " 3       1                       0  0.640931\n",
       " 4       1                       1  0.322304\n",
       " 5       1                      -1  0.036765]"
      ]
     },
     "metadata": {},
     "output_type": "display_data"
    },
    {
     "name": "stdout",
     "output_type": "stream",
     "text": [
      "for phising website cases in Statistical_report, we have\n"
     ]
    },
    {
     "data": {
      "text/plain": [
       "[   Result  Statistical_report     value\n",
       " 2       1                   0  0.821078\n",
       " 3       1                   1  0.178922]"
      ]
     },
     "metadata": {},
     "output_type": "display_data"
    }
   ],
   "source": [
    "# let's see how the values of each feature relates with the result\n",
    "\n",
    "for a in data.columns:\n",
    "    if str(a) != 'Result':\n",
    "        new = pd.DataFrame(data.groupby('Result')[a].value_counts(normalize= True))\n",
    "        new['value'] = new[a]\n",
    "        new.drop(str(a), axis= 1, inplace= True)\n",
    "        new = new.reset_index()\n",
    "\n",
    "        # displaying cases where Result was 1 a phishing website\n",
    "        print('for phising website cases in {}, we have'.format(a))\n",
    "        display([new[new['Result']==1 ]])\n",
    "    else:\n",
    "        pass\n",
    "    \n",
    "    #data.groupby('Result')[a].value_counts(normalize= True).plot(kind= 'bar')\n",
    "    "
   ]
  },
  {
   "cell_type": "markdown",
   "metadata": {},
   "source": [
    "for example for phising websites we see that most didn't have an at symbol."
   ]
  },
  {
   "cell_type": "code",
   "execution_count": null,
   "metadata": {},
   "outputs": [],
   "source": []
  },
  {
   "cell_type": "markdown",
   "metadata": {},
   "source": [
    "## Modelling"
   ]
  },
  {
   "cell_type": "code",
   "execution_count": 16,
   "metadata": {},
   "outputs": [],
   "source": [
    "X = data.drop('Result', axis= 1)\n",
    "y = data.Result"
   ]
  },
  {
   "cell_type": "code",
   "execution_count": 17,
   "metadata": {},
   "outputs": [],
   "source": [
    "# spliting_using train_test_split\n",
    "X_train, X_test, y_train, y_test = train_test_split(X, y, test_size=0.2, random_state=42)"
   ]
  },
  {
   "cell_type": "code",
   "execution_count": 18,
   "metadata": {},
   "outputs": [],
   "source": [
    "# Initializing Models\n",
    "randf = RandomForestClassifier(random_state= 80)\n",
    "xgb = XGBClassifier(random_state = 70)\n",
    "\n",
    "# Had to comment out catboost because of long output and i also used Random Forest\n",
    "# cat = CatBoostClassifier(random_state = 80)\n",
    "\n",
    "models = [randf, xgb]\n",
    "model_name = []\n",
    "test_result = []\n",
    "cross_val_result = []"
   ]
  },
  {
   "cell_type": "code",
   "execution_count": 19,
   "metadata": {},
   "outputs": [],
   "source": [
    "# function to fit and plot accuracy scores\n",
    "def fit_report(models):\n",
    "    for f in models:\n",
    "        model_name.append(f.__class__.__name__)\n",
    "        f.fit(X_train, y_train)\n",
    "        y_pred = f.predict(X_test)\n",
    "        acc = accuracy_score(y_test, y_pred)\n",
    "        test_result.append(acc)\n",
    "    print(model_name, test_result)\n",
    "    plt.bar(model_name, test_result)\n",
    "    plt.show()"
   ]
  },
  {
   "cell_type": "code",
   "execution_count": 20,
   "metadata": {},
   "outputs": [
    {
     "name": "stderr",
     "output_type": "stream",
     "text": [
      "C:\\Users\\Chigozie\\anaconda3\\lib\\site-packages\\xgboost\\sklearn.py:1146: UserWarning: The use of label encoder in XGBClassifier is deprecated and will be removed in a future release. To remove this warning, do the following: 1) Pass option use_label_encoder=False when constructing XGBClassifier object; and 2) Encode your labels (y) as integers starting with 0, i.e. 0, 1, 2, ..., [num_class - 1].\n",
      "  warnings.warn(label_encoder_deprecation_msg, UserWarning)\n"
     ]
    },
    {
     "name": "stdout",
     "output_type": "stream",
     "text": [
      "[23:43:47] WARNING: C:/Users/Administrator/workspace/xgboost-win64_release_1.4.0/src/learner.cc:1095: Starting in XGBoost 1.3.0, the default evaluation metric used with the objective 'binary:logistic' was changed from 'error' to 'logloss'. Explicitly set eval_metric if you'd like to restore the old behavior.\n",
      "['RandomForestClassifier', 'XGBClassifier'] [0.9622093023255814, 0.9709302325581395]\n"
     ]
    },
    {
     "data": {
      "image/png": "[encoded data removed]",
      "text/plain": [
       "<Figure size 432x288 with 1 Axes>"
      ]
     },
     "metadata": {
      "needs_background": "light"
     },
     "output_type": "display_data"
    }
   ],
   "source": [
    "fit_report(models)\n",
    "# all models seem to be performing well but xgb seems to be performing slightly better"
   ]
  },
  {
   "cell_type": "code",
   "execution_count": 21,
   "metadata": {},
   "outputs": [
    {
     "name": "stderr",
     "output_type": "stream",
     "text": [
      "C:\\Users\\Chigozie\\anaconda3\\lib\\site-packages\\xgboost\\sklearn.py:1146: UserWarning: The use of label encoder in XGBClassifier is deprecated and will be removed in a future release. To remove this warning, do the following: 1) Pass option use_label_encoder=False when constructing XGBClassifier object; and 2) Encode your labels (y) as integers starting with 0, i.e. 0, 1, 2, ..., [num_class - 1].\n",
      "  warnings.warn(label_encoder_deprecation_msg, UserWarning)\n",
      "C:\\Users\\Chigozie\\anaconda3\\lib\\site-packages\\xgboost\\sklearn.py:1146: UserWarning: The use of label encoder in XGBClassifier is deprecated and will be removed in a future release. To remove this warning, do the following: 1) Pass option use_label_encoder=False when constructing XGBClassifier object; and 2) Encode your labels (y) as integers starting with 0, i.e. 0, 1, 2, ..., [num_class - 1].\n",
      "  warnings.warn(label_encoder_deprecation_msg, UserWarning)\n"
     ]
    },
    {
     "name": "stdout",
     "output_type": "stream",
     "text": [
      "[23:43:48] WARNING: C:/Users/Administrator/workspace/xgboost-win64_release_1.4.0/src/learner.cc:1095: Starting in XGBoost 1.3.0, the default evaluation metric used with the objective 'binary:logistic' was changed from 'error' to 'logloss'. Explicitly set eval_metric if you'd like to restore the old behavior.\n",
      "[23:43:48] WARNING: C:/Users/Administrator/workspace/xgboost-win64_release_1.4.0/src/learner.cc:1095: Starting in XGBoost 1.3.0, the default evaluation metric used with the objective 'binary:logistic' was changed from 'error' to 'logloss'. Explicitly set eval_metric if you'd like to restore the old behavior.\n"
     ]
    },
    {
     "name": "stderr",
     "output_type": "stream",
     "text": [
      "C:\\Users\\Chigozie\\anaconda3\\lib\\site-packages\\xgboost\\sklearn.py:1146: UserWarning: The use of label encoder in XGBClassifier is deprecated and will be removed in a future release. To remove this warning, do the following: 1) Pass option use_label_encoder=False when constructing XGBClassifier object; and 2) Encode your labels (y) as integers starting with 0, i.e. 0, 1, 2, ..., [num_class - 1].\n",
      "  warnings.warn(label_encoder_deprecation_msg, UserWarning)\n",
      "C:\\Users\\Chigozie\\anaconda3\\lib\\site-packages\\xgboost\\sklearn.py:1146: UserWarning: The use of label encoder in XGBClassifier is deprecated and will be removed in a future release. To remove this warning, do the following: 1) Pass option use_label_encoder=False when constructing XGBClassifier object; and 2) Encode your labels (y) as integers starting with 0, i.e. 0, 1, 2, ..., [num_class - 1].\n",
      "  warnings.warn(label_encoder_deprecation_msg, UserWarning)\n"
     ]
    },
    {
     "name": "stdout",
     "output_type": "stream",
     "text": [
      "[23:43:48] WARNING: C:/Users/Administrator/workspace/xgboost-win64_release_1.4.0/src/learner.cc:1095: Starting in XGBoost 1.3.0, the default evaluation metric used with the objective 'binary:logistic' was changed from 'error' to 'logloss'. Explicitly set eval_metric if you'd like to restore the old behavior.\n",
      "[23:43:49] WARNING: C:/Users/Administrator/workspace/xgboost-win64_release_1.4.0/src/learner.cc:1095: Starting in XGBoost 1.3.0, the default evaluation metric used with the objective 'binary:logistic' was changed from 'error' to 'logloss'. Explicitly set eval_metric if you'd like to restore the old behavior.\n",
      "Use RandomForestClassifier\n",
      "[0.9431486880466473, 0.935131195335277] ['RandomForestClassifier', 'XGBClassifier']\n"
     ]
    }
   ],
   "source": [
    "# choosing the overall best with cross val score\n",
    "\n",
    "model_name = []\n",
    "for ind, model in enumerate(models):\n",
    "    model_name.append(model.__class__.__name__)\n",
    "    cross_val_result.append(np.mean(cross_val_score(model, X_train, y_train, scoring= 'accuracy', cv= 4)))\n",
    "    \n",
    "print('Use {}'.format(model_name[cross_val_result.index(max(cross_val_result))]))\n",
    "print(cross_val_result, model_name)"
   ]
  },
  {
   "cell_type": "markdown",
   "metadata": {},
   "source": [
    "Catboost seems to be the best performing model but is hardly tuneable so i'll tune the second best, Random forest."
   ]
  },
  {
   "cell_type": "markdown",
   "metadata": {},
   "source": [
    "## Note: For this tuning i tried a lot of values for the parameters and narrowed down so it doesn't take too much time."
   ]
  },
  {
   "cell_type": "code",
   "execution_count": 22,
   "metadata": {
    "scrolled": true
   },
   "outputs": [
    {
     "data": {
      "text/plain": [
       "GridSearchCV(cv=3, estimator=RandomForestClassifier(random_state=80),\n",
       "             param_grid={'max_depth': [90, 100, 120], 'min_samples_leaf': [1],\n",
       "                         'min_samples_split': [3], 'n_estimators': [500, 550]},\n",
       "             scoring='accuracy')"
      ]
     },
     "execution_count": 22,
     "metadata": {},
     "output_type": "execute_result"
    }
   ],
   "source": [
    "# Hyperparameter tuning the best model using Gridsearch\n",
    "\n",
    "params = {'n_estimators': [500,550], 'max_depth':[90,100,120], 'min_samples_split':[3], 'min_samples_leaf': [1]}\n",
    "grid = GridSearchCV(RandomForestClassifier(random_state= 80), params, cv= 3, scoring= 'accuracy')\n",
    "grid.fit(X_train, y_train) "
   ]
  },
  {
   "cell_type": "code",
   "execution_count": 23,
   "metadata": {},
   "outputs": [
    {
     "data": {
      "text/plain": [
       "{'max_depth': 90,\n",
       " 'min_samples_leaf': 1,\n",
       " 'min_samples_split': 3,\n",
       " 'n_estimators': 550}"
      ]
     },
     "execution_count": 23,
     "metadata": {},
     "output_type": "execute_result"
    }
   ],
   "source": [
    "# best params\n",
    "grid.best_params_"
   ]
  },
  {
   "cell_type": "code",
   "execution_count": 24,
   "metadata": {},
   "outputs": [
    {
     "data": {
      "text/plain": [
       "0.9445994540688435"
      ]
     },
     "execution_count": 24,
     "metadata": {},
     "output_type": "execute_result"
    }
   ],
   "source": [
    "grid.best_score_"
   ]
  },
  {
   "cell_type": "code",
   "execution_count": 25,
   "metadata": {},
   "outputs": [],
   "source": [
    "best_estim = grid.best_estimator_"
   ]
  },
  {
   "cell_type": "code",
   "execution_count": 26,
   "metadata": {},
   "outputs": [
    {
     "data": {
      "text/plain": [
       "RandomForestClassifier(max_depth=90, min_samples_split=3, n_estimators=550,\n",
       "                       random_state=80)"
      ]
     },
     "execution_count": 26,
     "metadata": {},
     "output_type": "execute_result"
    }
   ],
   "source": [
    "best_estim.fit(X_train, y_train)"
   ]
  },
  {
   "cell_type": "code",
   "execution_count": 27,
   "metadata": {},
   "outputs": [
    {
     "data": {
      "text/plain": [
       "0.9767441860465116"
      ]
     },
     "execution_count": 27,
     "metadata": {},
     "output_type": "execute_result"
    }
   ],
   "source": [
    "# score on the test set\n",
    "accuracy_score(y_test, best_estim.predict(X_test))"
   ]
  },
  {
   "cell_type": "code",
   "execution_count": null,
   "metadata": {},
   "outputs": [],
   "source": []
  }
 ],
 "metadata": {
  "kernelspec": {
   "display_name": "Python 3",
   "language": "python",
   "name": "python3"
  },
  "language_info": {
   "codemirror_mode": {
    "name": "ipython",
    "version": 3
   },
   "file_extension": ".py",
   "mimetype": "text/x-python",
   "name": "python",
   "nbconvert_exporter": "python",
   "pygments_lexer": "ipython3",
   "version": "3.8.3"
  }
 },
 "nbformat": 4,
 "nbformat_minor": 4
}
